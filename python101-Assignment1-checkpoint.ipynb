{
 "cells": [
  {
   "cell_type": "markdown",
   "metadata": {},
   "source": [
    "# Python Program to Find the Largest Number in a List "
   ]
  },
  {
   "cell_type": "code",
   "execution_count": 1,
   "metadata": {},
   "outputs": [
    {
     "name": "stdout",
     "output_type": "stream",
     "text": [
      "Enter numbers into list \n",
      "12,23,34,45,56\n",
      "largest number in the list is 56\n"
     ]
    }
   ],
   "source": [
    "#method-1\n",
    "array=list(eval(input(\"Enter numbers into list \\n\")))\n",
    "largest=0\n",
    "i=0\n",
    "while(i<len(array)):\n",
    "    if(largest<array[i]):\n",
    "        largest=array[i]\n",
    "        i=i+1\n",
    "    else:\n",
    "        largest=largest\n",
    "print(\"largest number in the list is\",largest)"
   ]
  },
  {
   "cell_type": "code",
   "execution_count": 2,
   "metadata": {},
   "outputs": [
    {
     "name": "stdout",
     "output_type": "stream",
     "text": [
      "Enter numbers into list \n",
      "12,23,34,45,56\n",
      "Largest Number in a List is: 56\n"
     ]
    }
   ],
   "source": [
    "#method-2\n",
    "array=list(eval(input(\"Enter numbers into list \\n\")))\n",
    "array.sort()\n",
    "print(\"Largest Number in a List is:\",array[-1])"
   ]
  },
  {
   "cell_type": "markdown",
   "metadata": {},
   "source": [
    "# Python Program to Find the Second Largest Number in a List"
   ]
  },
  {
   "cell_type": "code",
   "execution_count": 3,
   "metadata": {},
   "outputs": [
    {
     "name": "stdout",
     "output_type": "stream",
     "text": [
      "Enter numbers into list \n",
      "12,23,34,45,56\n",
      "the Second Largest Number in a List is: 45\n"
     ]
    }
   ],
   "source": [
    "array1=list(eval(input(\"Enter numbers into list \\n\")))\n",
    "array1.sort()\n",
    "print(\"the Second Largest Number in a List is:\",array1[-2])"
   ]
  },
  {
   "cell_type": "markdown",
   "metadata": {},
   "source": [
    "# Python Program to Merge Two Lists and Sort it"
   ]
  },
  {
   "cell_type": "code",
   "execution_count": 4,
   "metadata": {},
   "outputs": [
    {
     "name": "stdout",
     "output_type": "stream",
     "text": [
      "Enter the list1 \n",
      "1,3,2,5,4\n",
      "Enter the list2 \n",
      "10,8,6,7,9\n",
      "Mereged and sorted list are:  [1, 2, 3, 4, 5, 6, 7, 8, 9, 10]\n"
     ]
    }
   ],
   "source": [
    "list1=list(eval(input(\"Enter the list1 \\n\")))\n",
    "list2=list(eval(input(\"Enter the list2 \\n\")))\n",
    "list1.extend(list2)\n",
    "list1.sort()\n",
    "print(\"Mereged and sorted list are: \",list1)"
   ]
  },
  {
   "cell_type": "markdown",
   "metadata": {},
   "source": [
    "# Python Program to Swap the First and Last Value of a List"
   ]
  },
  {
   "cell_type": "code",
   "execution_count": 5,
   "metadata": {},
   "outputs": [
    {
     "name": "stdout",
     "output_type": "stream",
     "text": [
      "Enter the list1 \n",
      "1,2,3,4,5\n",
      "After swapping of first and last values, the output list are:  [5, 2, 3, 4, 1]\n"
     ]
    }
   ],
   "source": [
    "list1=list(eval(input(\"Enter the list1 \\n\")))\n",
    "list1=[list1[-1]]+list1[1:-1]+[list1[0]]\n",
    "print(\"After swapping of first and last values, the output list are: \",list1)"
   ]
  },
  {
   "cell_type": "code",
   "execution_count": null,
   "metadata": {},
   "outputs": [],
   "source": []
  }
 ],
 "metadata": {
  "kernelspec": {
   "display_name": "Python 3",
   "language": "python",
   "name": "python3"
  },
  "language_info": {
   "codemirror_mode": {
    "name": "ipython",
    "version": 3
   },
   "file_extension": ".py",
   "mimetype": "text/x-python",
   "name": "python",
   "nbconvert_exporter": "python",
   "pygments_lexer": "ipython3",
   "version": "3.8.3"
  }
 },
 "nbformat": 4,
 "nbformat_minor": 4
}
