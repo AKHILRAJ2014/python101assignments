{
 "cells": [
  {
   "cell_type": "code",
   "execution_count": 1,
   "metadata": {},
   "outputs": [
    {
     "data": {
      "text/plain": [
       "{'name': 'Sachin', 'age': 22, 'salary': 60000, 'location': 'New Delhi'}"
      ]
     },
     "execution_count": 1,
     "metadata": {},
     "output_type": "execute_result"
    }
   ],
   "source": [
    "#1. Rename key city to location in the following dictionary\n",
    "SkillSanta_Dict={\"name\":\"Sachin\",\"age\":22,\"salary\":60000,\"city\":\"New Delhi\"}\n",
    "SkillSanta_Dict[\"location\"]=SkillSanta_Dict.pop(\"city\")\n",
    "SkillSanta_Dict"
   ]
  },
  {
   "cell_type": "code",
   "execution_count": 2,
   "metadata": {},
   "outputs": [
    {
     "name": "stdout",
     "output_type": "stream",
     "text": [
      "printing count of each item: {11: 2, 45: 3, 8: 1, 23: 2, 89: 1}\n"
     ]
    }
   ],
   "source": [
    "#2. Given a list iterate it and count the occurrence of each element and create a dictionary to show the count of each element\n",
    "list=[11,45,8,11,23,45,23,45,89]\n",
    "list1={}\n",
    "for x in list:\n",
    "    if(x in list1):\n",
    "        list1[x]+=1\n",
    "    else:\n",
    "        list1[x]=1\n",
    "print(\"printing count of each item:\",list1)"
   ]
  },
  {
   "cell_type": "code",
   "execution_count": 3,
   "metadata": {},
   "outputs": [
    {
     "name": "stdout",
     "output_type": "stream",
     "text": [
      "unique items [87, 45, 41, 65, 94, 99]\n",
      "tuple (87, 45, 41, 65, 94, 99)\n",
      "min 41\n",
      "max 99\n"
     ]
    }
   ],
   "source": [
    "#3. Remove duplicate from a list and create a tuple and find the minimum and maximum number\n",
    "samplelist=[87,45,41,65,94,41,99,94]\n",
    "list1=[]\n",
    "for x in samplelist:\n",
    "    if(x in list1):\n",
    "        x\n",
    "    else:\n",
    "        list1.append(x)\n",
    "print(\"unique items\" ,list1)\n",
    "print(\"tuple\",tuple(list1))\n",
    "print(\"min\",min(list1))\n",
    "print(\"max\",max(list1))"
   ]
  },
  {
   "cell_type": "code",
   "execution_count": 4,
   "metadata": {},
   "outputs": [
    {
     "name": "stdout",
     "output_type": "stream",
     "text": [
      "Employee  eddy  salary is: 50000\n",
      "Employee  eddy  salary is: 50000\n"
     ]
    }
   ],
   "source": [
    "#4. Create a function showEmployee() in such a way that it should accept employee name, and it’s salary and display both, and if the salary is missing in function call it should show it as 50000\n",
    "def showEmployee(name,salary=50000):\n",
    "    print(\"Employee \",name,\" salary is: 50000\")\n",
    "showEmployee(\"eddy\",50000)\n",
    "showEmployee(\"eddy\")"
   ]
  },
  {
   "cell_type": "code",
   "execution_count": 5,
   "metadata": {},
   "outputs": [
    {
     "data": {
      "text/plain": [
       "12"
      ]
     },
     "execution_count": 5,
     "metadata": {},
     "output_type": "execute_result"
    }
   ],
   "source": [
    "#5. Create an inner function to calculate the addition in the following way ● Create an outer function that will accept two parameters a and b ● Create an inner function inside an outer function that will calculatethe addition of a and b ● At last, an outer function will add 5 into addition and return it\n",
    "def ad1(a,b):\n",
    "    a1=a\n",
    "    b1=b\n",
    "    def ad2(a1,b1):\n",
    "        global c\n",
    "        c=a1+b1\n",
    "        return c\n",
    "    add=ad2(a1,b1)\n",
    "    return c+5\n",
    "ad1(3,4)"
   ]
  },
  {
   "cell_type": "code",
   "execution_count": 6,
   "metadata": {},
   "outputs": [
    {
     "name": "stdout",
     "output_type": "stream",
     "text": [
      "0\n",
      "1\n",
      "1\n",
      "2\n",
      "3\n",
      "5\n",
      "8\n",
      "13\n"
     ]
    }
   ],
   "source": [
    "#6 Write a recursive function to print the fibonacci series of n numbers.\n",
    "def fibonacci_series(x):\n",
    "    n1=0\n",
    "    n2=1\n",
    "    count=0\n",
    "    if(x<0):\n",
    "        print(\"Give positive integer\")\n",
    "    elif(x==1):\n",
    "        print(n1)\n",
    "    elif(x>1):\n",
    "        print(n1)\n",
    "        print(n2)\n",
    "        while((x-2)>count):\n",
    "            num=n1+n2\n",
    "            print(num)\n",
    "            n1=n2\n",
    "            n2=num\n",
    "            count+=1  \n",
    "fibonacci_series(8)"
   ]
  },
  {
   "cell_type": "code",
   "execution_count": 7,
   "metadata": {},
   "outputs": [
    {
     "name": "stdout",
     "output_type": "stream",
     "text": [
      "Akhil 20\n"
     ]
    }
   ],
   "source": [
    "#7 Assign a different name to function and call it through the new name\n",
    "def displayStudent(name,age):\n",
    "    print(name,age)\n",
    "showStudent=displayStudent\n",
    "showStudent(\"Akhil\",20)"
   ]
  },
  {
   "cell_type": "code",
   "execution_count": 8,
   "metadata": {},
   "outputs": [
    {
     "name": "stdout",
     "output_type": "stream",
     "text": [
      "Enter number \n",
      "987654\n",
      "Enter number \n",
      "98765432\n",
      "Enter number \n",
      "9876543210\n"
     ]
    }
   ],
   "source": [
    "#8. Create a python function which takes a mobile number from the user until the user would not give you a proper mobile number. If a user gives the wrong input you have to take input again from the user, once get proper number stop asking\n",
    "while(1>0):\n",
    "    def mn(number):\n",
    "        return number\n",
    "    number=input(\"Enter number \\n\")\n",
    "    mn(number)\n",
    "    if(len(number)==10):\n",
    "        break"
   ]
  },
  {
   "cell_type": "code",
   "execution_count": 9,
   "metadata": {},
   "outputs": [
    {
     "name": "stdout",
     "output_type": "stream",
     "text": [
      "enter string AbCdEfG\n",
      "No. of Uppercase characters : 3\n",
      "No. of Lowercase Characters : 4\n"
     ]
    }
   ],
   "source": [
    "#9. Write a Python function that accepts a string and calculates the number of uppercase letters and lowercase letters.\n",
    "x=input(\"enter string \")\n",
    "count=0\n",
    "count1=0\n",
    "for i in range(len(x)):\n",
    "    if((x[i].islower())==True):\n",
    "        count+=1\n",
    "    elif((x[i].isupper())==True):\n",
    "        count1+=1\n",
    "print(\"No. of Uppercase characters :\",count)\n",
    "print(\"No. of Lowercase Characters :\",count1)"
   ]
  },
  {
   "cell_type": "code",
   "execution_count": 10,
   "metadata": {},
   "outputs": [
    {
     "name": "stdout",
     "output_type": "stream",
     "text": [
      "Enter number6\n",
      "6 is a perfect number\n"
     ]
    }
   ],
   "source": [
    "#10 Write a Python function to check whether a number is perfect or not.\n",
    "into=int(input(\"Enter number\"))\n",
    "add=0\n",
    "for i in range(1,into):\n",
    "    if(into%i==0):\n",
    "        add+=i\n",
    "    if(add==into):\n",
    "        break\n",
    "if(add==into):\n",
    "    print(into,\"is a perfect number\")\n",
    "else:\n",
    "    print(into,\"is not a perfect number\")"
   ]
  },
  {
   "cell_type": "code",
   "execution_count": null,
   "metadata": {},
   "outputs": [],
   "source": []
  }
 ],
 "metadata": {
  "kernelspec": {
   "display_name": "Python 3",
   "language": "python",
   "name": "python3"
  },
  "language_info": {
   "codemirror_mode": {
    "name": "ipython",
    "version": 3
   },
   "file_extension": ".py",
   "mimetype": "text/x-python",
   "name": "python",
   "nbconvert_exporter": "python",
   "pygments_lexer": "ipython3",
   "version": "3.8.3"
  }
 },
 "nbformat": 4,
 "nbformat_minor": 4
}
